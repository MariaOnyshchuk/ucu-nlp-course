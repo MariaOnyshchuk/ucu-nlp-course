{
 "cells": [
  {
   "cell_type": "markdown",
   "id": "7c46638a",
   "metadata": {},
   "source": [
    "Download data from https://www.kaggle.com/competitions/nlp-ucu-2025-task-1/data into this folder.\n",
    "\n",
    "You need train.json and test.json to start."
   ]
  },
  {
   "cell_type": "code",
   "execution_count": 1,
   "id": "435bb987",
   "metadata": {
    "_cell_guid": "b1076dfc-b9ad-4769-8c92-a6c4dae69d19",
    "_uuid": "8f2839f25d086af736a60e9eeb907d3b93b6e0e5",
    "execution": {
     "iopub.execute_input": "2025-09-19T00:53:09.878018Z",
     "iopub.status.busy": "2025-09-19T00:53:09.877658Z",
     "iopub.status.idle": "2025-09-19T00:53:11.632622Z",
     "shell.execute_reply": "2025-09-19T00:53:11.631610Z"
    },
    "papermill": {
     "duration": 1.76028,
     "end_time": "2025-09-19T00:53:11.634133",
     "exception": false,
     "start_time": "2025-09-19T00:53:09.873853",
     "status": "completed"
    },
    "tags": []
   },
   "outputs": [
    {
     "name": "stdout",
     "output_type": "stream",
     "text": [
      "./sample_solution_local.ipynb\n",
      "./sample_solution_kaggle.ipynb\n",
      "./test.json\n",
      "./README.md\n",
      "./train.json\n"
     ]
    }
   ],
   "source": [
    "# This Python 3 environment comes with many helpful analytics libraries installed\n",
    "# It is defined by the kaggle/python Docker image: https://github.com/kaggle/docker-python\n",
    "# For example, here's several helpful packages to load\n",
    "\n",
    "import numpy as np # linear algebra\n",
    "import pandas as pd # data processing, CSV file I/O (e.g. pd.read_csv)\n",
    "\n",
    "# Input data files are available in the read-only \"../input/\" directory\n",
    "# For example, running this (by clicking run or pressing Shift+Enter) will list all files under the input directory\n",
    "\n",
    "import os\n",
    "for dirname, _, filenames in os.walk('.'):\n",
    "    for filename in filenames:\n",
    "        print(os.path.join(dirname, filename))\n",
    "\n",
    "# You can write up to 20GB to the current directory (/kaggle/working/) that gets preserved as output when you create a version using \"Save & Run All\" \n",
    "# You can also write temporary files to /kaggle/temp/, but they won't be saved outside of the current session"
   ]
  },
  {
   "cell_type": "code",
   "execution_count": 2,
   "id": "3b934e37",
   "metadata": {
    "execution": {
     "iopub.execute_input": "2025-09-19T00:53:11.639570Z",
     "iopub.status.busy": "2025-09-19T00:53:11.639169Z",
     "iopub.status.idle": "2025-09-19T00:53:32.399313Z",
     "shell.execute_reply": "2025-09-19T00:53:32.398523Z"
    },
    "papermill": {
     "duration": 20.764191,
     "end_time": "2025-09-19T00:53:32.400757",
     "exception": false,
     "start_time": "2025-09-19T00:53:11.636566",
     "status": "completed"
    },
    "tags": []
   },
   "outputs": [
    {
     "data": {
      "text/html": [
       "<div>\n",
       "<style scoped>\n",
       "    .dataframe tbody tr th:only-of-type {\n",
       "        vertical-align: middle;\n",
       "    }\n",
       "\n",
       "    .dataframe tbody tr th {\n",
       "        vertical-align: top;\n",
       "    }\n",
       "\n",
       "    .dataframe thead th {\n",
       "        text-align: right;\n",
       "    }\n",
       "</style>\n",
       "<table border=\"1\" class=\"dataframe\">\n",
       "  <thead>\n",
       "    <tr style=\"text-align: right;\">\n",
       "      <th></th>\n",
       "      <th>text</th>\n",
       "      <th>target</th>\n",
       "    </tr>\n",
       "  </thead>\n",
       "  <tbody>\n",
       "    <tr>\n",
       "      <th>0</th>\n",
       "      <td>приобрела всю серию детских судоку после того ...</td>\n",
       "      <td>5</td>\n",
       "    </tr>\n",
       "    <tr>\n",
       "      <th>1</th>\n",
       "      <td>книга детектив мейзі хітчінз або справа про ру...</td>\n",
       "      <td>5</td>\n",
       "    </tr>\n",
       "    <tr>\n",
       "      <th>2</th>\n",
       "      <td>коли придбала книжку то була певна що історія ...</td>\n",
       "      <td>5</td>\n",
       "    </tr>\n",
       "    <tr>\n",
       "      <th>3</th>\n",
       "      <td>книжка брехун серед нас виконана в жанрі реалі...</td>\n",
       "      <td>4</td>\n",
       "    </tr>\n",
       "    <tr>\n",
       "      <th>4</th>\n",
       "      <td>ця книга чудовий екземпляр подарунку іноземцям...</td>\n",
       "      <td>5</td>\n",
       "    </tr>\n",
       "    <tr>\n",
       "      <th>...</th>\n",
       "      <td>...</td>\n",
       "      <td>...</td>\n",
       "    </tr>\n",
       "    <tr>\n",
       "      <th>55399</th>\n",
       "      <td>детям интересно будет поближе познакомиться с ...</td>\n",
       "      <td>5</td>\n",
       "    </tr>\n",
       "    <tr>\n",
       "      <th>55400</th>\n",
       "      <td>то сборник новелл в жанре литератур ужасов нов...</td>\n",
       "      <td>5</td>\n",
       "    </tr>\n",
       "    <tr>\n",
       "      <th>55401</th>\n",
       "      <td>бернар вербер не в бирает легких тем его книги...</td>\n",
       "      <td>5</td>\n",
       "    </tr>\n",
       "    <tr>\n",
       "      <th>55402</th>\n",
       "      <td>що не кажіть а осінь це мабуть найсприятливіша...</td>\n",
       "      <td>5</td>\n",
       "    </tr>\n",
       "    <tr>\n",
       "      <th>55403</th>\n",
       "      <td>милая небольшая по об ему книжечка очень мил е...</td>\n",
       "      <td>5</td>\n",
       "    </tr>\n",
       "  </tbody>\n",
       "</table>\n",
       "<p>55404 rows × 2 columns</p>\n",
       "</div>"
      ],
      "text/plain": [
       "                                                    text  target\n",
       "0      приобрела всю серию детских судоку после того ...       5\n",
       "1      книга детектив мейзі хітчінз або справа про ру...       5\n",
       "2      коли придбала книжку то була певна що історія ...       5\n",
       "3      книжка брехун серед нас виконана в жанрі реалі...       4\n",
       "4      ця книга чудовий екземпляр подарунку іноземцям...       5\n",
       "...                                                  ...     ...\n",
       "55399  детям интересно будет поближе познакомиться с ...       5\n",
       "55400  то сборник новелл в жанре литератур ужасов нов...       5\n",
       "55401  бернар вербер не в бирает легких тем его книги...       5\n",
       "55402  що не кажіть а осінь це мабуть найсприятливіша...       5\n",
       "55403  милая небольшая по об ему книжечка очень мил е...       5\n",
       "\n",
       "[55404 rows x 2 columns]"
      ]
     },
     "execution_count": 2,
     "metadata": {},
     "output_type": "execute_result"
    }
   ],
   "source": [
    "train_df = pd.read_json(\"train.json\", lines=True)\n",
    "test_df = pd.read_json(\"test.json\", lines=True)\n",
    "\n",
    "target_chats = set(\"абвгґдеєжзиіїйклмнопрстуфхцчшщьюя' \") # remove emails, urls, phones\n",
    "\n",
    "def normalize_text(text):\n",
    "    # leave only allowed characters\n",
    "    # replace with a space, then remove extra spaces\n",
    "    text = text.lower()\n",
    "    for char in text:\n",
    "        if char.lower() not in target_chats:\n",
    "            text = text.replace(char, \" \")\n",
    "\n",
    "    text = \" \".join(text.split())\n",
    "    return text\n",
    "train_df[\"text\"] = train_df[\"text\"].apply(normalize_text)\n",
    "test_df[\"text\"] = test_df[\"text\"].apply(normalize_text)\n",
    "train_df\n"
   ]
  },
  {
   "cell_type": "code",
   "execution_count": 3,
   "id": "0c7c5848",
   "metadata": {
    "execution": {
     "iopub.execute_input": "2025-09-19T00:53:32.406411Z",
     "iopub.status.busy": "2025-09-19T00:53:32.405905Z",
     "iopub.status.idle": "2025-09-19T00:53:47.731993Z",
     "shell.execute_reply": "2025-09-19T00:53:47.731038Z"
    },
    "papermill": {
     "duration": 15.330209,
     "end_time": "2025-09-19T00:53:47.733382",
     "exception": false,
     "start_time": "2025-09-19T00:53:32.403173",
     "status": "completed"
    },
    "tags": []
   },
   "outputs": [
    {
     "data": {
      "text/plain": [
       "array([5, 1, 5, ..., 5, 5, 5])"
      ]
     },
     "execution_count": 3,
     "metadata": {},
     "output_type": "execute_result"
    }
   ],
   "source": [
    "from sklearn.feature_extraction.text import CountVectorizer\n",
    "from sklearn.naive_bayes import MultinomialNB\n",
    "from sklearn.metrics import classification_report\n",
    "\n",
    "# Create document-term matrix using word counts\n",
    "count_vectorizer = CountVectorizer(max_features=1000)\n",
    "X_train = count_vectorizer.fit_transform(train_df[\"text\"])\n",
    "X_test = count_vectorizer.transform(test_df[\"text\"])\n",
    "\n",
    "# Get training and test labels\n",
    "y_train = train_df['target']\n",
    "\n",
    "\n",
    "# Initialize and train the MultinomialNB classifier\n",
    "nb_classifier = MultinomialNB()\n",
    "nb_classifier.fit(X_train, y_train)\n",
    "\n",
    "# Make predictions\n",
    "y_pred = nb_classifier.predict(X_test)\n",
    "y_pred"
   ]
  },
  {
   "cell_type": "code",
   "execution_count": 4,
   "id": "f59c4414",
   "metadata": {
    "execution": {
     "iopub.execute_input": "2025-09-19T00:53:47.739806Z",
     "iopub.status.busy": "2025-09-19T00:53:47.738986Z",
     "iopub.status.idle": "2025-09-19T00:53:47.756377Z",
     "shell.execute_reply": "2025-09-19T00:53:47.755505Z"
    },
    "papermill": {
     "duration": 0.021856,
     "end_time": "2025-09-19T00:53:47.757697",
     "exception": false,
     "start_time": "2025-09-19T00:53:47.735841",
     "status": "completed"
    },
    "tags": []
   },
   "outputs": [
    {
     "data": {
      "text/html": [
       "<div>\n",
       "<style scoped>\n",
       "    .dataframe tbody tr th:only-of-type {\n",
       "        vertical-align: middle;\n",
       "    }\n",
       "\n",
       "    .dataframe tbody tr th {\n",
       "        vertical-align: top;\n",
       "    }\n",
       "\n",
       "    .dataframe thead th {\n",
       "        text-align: right;\n",
       "    }\n",
       "</style>\n",
       "<table border=\"1\" class=\"dataframe\">\n",
       "  <thead>\n",
       "    <tr style=\"text-align: right;\">\n",
       "      <th></th>\n",
       "      <th>id</th>\n",
       "      <th>target</th>\n",
       "    </tr>\n",
       "  </thead>\n",
       "  <tbody>\n",
       "    <tr>\n",
       "      <th>0</th>\n",
       "      <td>0</td>\n",
       "      <td>5</td>\n",
       "    </tr>\n",
       "    <tr>\n",
       "      <th>1</th>\n",
       "      <td>1</td>\n",
       "      <td>1</td>\n",
       "    </tr>\n",
       "    <tr>\n",
       "      <th>2</th>\n",
       "      <td>2</td>\n",
       "      <td>5</td>\n",
       "    </tr>\n",
       "    <tr>\n",
       "      <th>3</th>\n",
       "      <td>3</td>\n",
       "      <td>5</td>\n",
       "    </tr>\n",
       "    <tr>\n",
       "      <th>4</th>\n",
       "      <td>4</td>\n",
       "      <td>5</td>\n",
       "    </tr>\n",
       "    <tr>\n",
       "      <th>...</th>\n",
       "      <td>...</td>\n",
       "      <td>...</td>\n",
       "    </tr>\n",
       "    <tr>\n",
       "      <th>13847</th>\n",
       "      <td>13847</td>\n",
       "      <td>3</td>\n",
       "    </tr>\n",
       "    <tr>\n",
       "      <th>13848</th>\n",
       "      <td>13848</td>\n",
       "      <td>3</td>\n",
       "    </tr>\n",
       "    <tr>\n",
       "      <th>13849</th>\n",
       "      <td>13849</td>\n",
       "      <td>5</td>\n",
       "    </tr>\n",
       "    <tr>\n",
       "      <th>13850</th>\n",
       "      <td>13850</td>\n",
       "      <td>5</td>\n",
       "    </tr>\n",
       "    <tr>\n",
       "      <th>13851</th>\n",
       "      <td>13851</td>\n",
       "      <td>5</td>\n",
       "    </tr>\n",
       "  </tbody>\n",
       "</table>\n",
       "<p>13852 rows × 2 columns</p>\n",
       "</div>"
      ],
      "text/plain": [
       "          id  target\n",
       "0          0       5\n",
       "1          1       1\n",
       "2          2       5\n",
       "3          3       5\n",
       "4          4       5\n",
       "...      ...     ...\n",
       "13847  13847       3\n",
       "13848  13848       3\n",
       "13849  13849       5\n",
       "13850  13850       5\n",
       "13851  13851       5\n",
       "\n",
       "[13852 rows x 2 columns]"
      ]
     },
     "execution_count": 4,
     "metadata": {},
     "output_type": "execute_result"
    }
   ],
   "source": [
    "test_df = test_df.drop(columns=[\"text\"])\n",
    "\n",
    "test_df[\"target\"] = y_pred\n",
    "test_df"
   ]
  },
  {
   "cell_type": "code",
   "execution_count": 5,
   "id": "4f64cdab",
   "metadata": {
    "execution": {
     "iopub.execute_input": "2025-09-19T00:53:47.764301Z",
     "iopub.status.busy": "2025-09-19T00:53:47.763509Z",
     "iopub.status.idle": "2025-09-19T00:53:47.783592Z",
     "shell.execute_reply": "2025-09-19T00:53:47.782839Z"
    },
    "papermill": {
     "duration": 0.025013,
     "end_time": "2025-09-19T00:53:47.785196",
     "exception": false,
     "start_time": "2025-09-19T00:53:47.760183",
     "status": "completed"
    },
    "tags": []
   },
   "outputs": [],
   "source": [
    "test_df.to_csv(\"submission.csv\", index=False)"
   ]
  }
 ],
 "metadata": {
  "kaggle": {
   "accelerator": "none",
   "dataSources": [
    {
     "databundleVersionId": 13786813,
     "sourceId": 115522,
     "sourceType": "competition"
    }
   ],
   "dockerImageVersionId": 31089,
   "isGpuEnabled": false,
   "isInternetEnabled": true,
   "language": "python",
   "sourceType": "notebook"
  },
  "kernelspec": {
   "display_name": "env",
   "language": "python",
   "name": "python3"
  },
  "language_info": {
   "codemirror_mode": {
    "name": "ipython",
    "version": 3
   },
   "file_extension": ".py",
   "mimetype": "text/x-python",
   "name": "python",
   "nbconvert_exporter": "python",
   "pygments_lexer": "ipython3",
   "version": "3.13.2"
  },
  "papermill": {
   "default_parameters": {},
   "duration": 43.97275,
   "end_time": "2025-09-19T00:53:48.607208",
   "environment_variables": {},
   "exception": null,
   "input_path": "__notebook__.ipynb",
   "output_path": "__notebook__.ipynb",
   "parameters": {},
   "start_time": "2025-09-19T00:53:04.634458",
   "version": "2.6.0"
  }
 },
 "nbformat": 4,
 "nbformat_minor": 5
}
