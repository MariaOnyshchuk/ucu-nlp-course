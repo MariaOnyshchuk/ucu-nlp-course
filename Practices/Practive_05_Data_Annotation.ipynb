{
 "cells": [
  {
   "cell_type": "code",
   "execution_count": null,
   "id": "24243b01",
   "metadata": {},
   "outputs": [],
   "source": [
    "!pip install argilla fastapi uvicorn"
   ]
  },
  {
   "cell_type": "code",
   "execution_count": null,
   "id": "75bdd05d",
   "metadata": {},
   "outputs": [],
   "source": [
    "import argilla as rg\n",
    "\n",
    "client = rg.Argilla(\n",
    "    api_url=\"https://robinhad-my-argilla.hf.space\",\n",
    "    api_key=\"\",\n",
    ")"
   ]
  },
  {
   "cell_type": "code",
   "execution_count": 9,
   "id": "f3572248",
   "metadata": {},
   "outputs": [],
   "source": [
    "dataset = client.datasets(name=\"pararook_eval_100_sent\")"
   ]
  },
  {
   "cell_type": "code",
   "execution_count": null,
   "id": "d3cbf967",
   "metadata": {},
   "outputs": [],
   "source": [
    "from random import randint\n",
    "\n",
    "debug = False\n",
    "for record in dataset.records(\n",
    "    with_suggestions=True,\n",
    "    with_responses=True,\n",
    "):\n",
    "    if debug:\n",
    "        print(record)\n",
    "        # Access the record properties\n",
    "        print(record.fields[\"eng_Latn\"])\n",
    "        print(record.metadata)\n",
    "        print(record.vectors)\n",
    "        print(record.suggestions)\n",
    "        print(record.responses)\n",
    "\n",
    "    print(\"Suggestions:\")\n",
    "    print(record.suggestions)\n",
    "\n",
    "    if len(record.suggestions) == 0:\n",
    "        record.suggestions.add(\n",
    "            rg.Suggestion(\"rating_0\", randint(1,10), score=0.9, agent=\"random\")\n",
    "        )\n",
    "\n",
    "    dataset.records.log(records=[\n",
    "        record # here it would be more efficient to log in batches, for illustration purposes we log one by one\n",
    "    ])"
   ]
  },
  {
   "cell_type": "code",
   "execution_count": null,
   "id": "2f83ff10",
   "metadata": {},
   "outputs": [],
   "source": [
    "# my_webhook.py file\n",
    "import argilla as rg\n",
    "\n",
    "from datetime import datetime\n",
    "from argilla import webhook_listener\n",
    "\n",
    "@webhook_listener(events=\"record.updated\")\n",
    "async def my_webhook_handler(dataset: rg.Dataset, type: str, timestamp: datetime):\n",
    "    for record in dataset.records(\n",
    "        with_suggestions=True,\n",
    "        with_responses=False,\n",
    "    ):\n",
    "        if debug:\n",
    "            print(record)\n",
    "            # Access the record properties\n",
    "            print(record.fields[\"eng_Latn\"])\n",
    "            print(record.metadata)\n",
    "            print(record.vectors)\n",
    "            print(record.suggestions)\n",
    "            print(record.responses)\n",
    "\n",
    "        print(\"Suggestions:\")\n",
    "        print(record.suggestions)\n",
    "\n",
    "        if len(record.suggestions) == 0:\n",
    "            record.suggestions.add(\n",
    "                rg.Suggestion(\"rating_0\", randint(1,10), score=0.9, agent=\"random\")\n",
    "            )\n",
    "\n",
    "        dataset.records.log(records=[\n",
    "            record # here it would be more efficient to log in batches, for illustration purposes we log one by one\n",
    "        ])\n",
    "    print(dataset, type, timestamp)"
   ]
  },
  {
   "cell_type": "code",
   "execution_count": null,
   "id": "83390ff0",
   "metadata": {},
   "outputs": [],
   "source": [
    "# my_webhook.py file\n",
    "from argilla import get_webhook_server\n",
    "\n",
    "server = get_webhook_server()"
   ]
  },
  {
   "cell_type": "code",
   "execution_count": null,
   "id": "600e6696",
   "metadata": {},
   "outputs": [],
   "source": [
    "!uvicorn my_webhook:server"
   ]
  },
  {
   "cell_type": "code",
   "execution_count": null,
   "id": "85840258",
   "metadata": {},
   "outputs": [],
   "source": [
    "\n",
    "\n",
    "records = [\n",
    "    rg.Record(\n",
    "        fields={\n",
    "            \"question\": \"Do you need oxygen to breathe?\",\n",
    "            \"answer\": \"Yes\"\n",
    "        },\n",
    "    ),\n",
    "    rg.Record(\n",
    "        fields={\n",
    "            \"question\": \"What is the boiling point of water?\",\n",
    "            \"answer\": \"100 degrees Celsius\"\n",
    "        },\n",
    "    ), # \n",
    "]\n",
    "\n",
    "dataset.records.log(records)"
   ]
  },
  {
   "cell_type": "code",
   "execution_count": null,
   "id": "e2bc7c4b",
   "metadata": {},
   "outputs": [],
   "source": [
    "# Add records to the dataset with the label 'my_label'\n",
    "records = [\n",
    "    rg.Record(\n",
    "        fields={\n",
    "            \"question\": \"Do you need oxygen to breathe?\",\n",
    "            \"answer\": \"Yes\"\n",
    "        },\n",
    "        suggestions=[\n",
    "            rg.Suggestion(\n",
    "                \"my_label\",\n",
    "                \"positive\",\n",
    "                score=0.9,\n",
    "                agent=\"model_name\"\n",
    "            )\n",
    "        ],\n",
    "    ),\n",
    "    rg.Record(\n",
    "        fields={\n",
    "            \"question\": \"What is the boiling point of water?\",\n",
    "            \"answer\": \"100 degrees Celsius\"\n",
    "        },\n",
    "        suggestions=[\n",
    "            rg.Suggestion(\n",
    "                \"my_label\",\n",
    "                \"negative\",\n",
    "                score=0.9,\n",
    "                agent=\"model_name\"\n",
    "            )\n",
    "        ],\n",
    "    ),\n",
    "]\n",
    "dataset.records.log(records)"
   ]
  },
  {
   "cell_type": "code",
   "execution_count": null,
   "id": "7432317a",
   "metadata": {},
   "outputs": [],
   "source": [
    "updated_records = []\n",
    "\n",
    "for record in dataset.records():\n",
    "\n",
    "    record.metadata[\"my_metadata\"] = \"new_value\"\n",
    "    record.metadata[\"my_new_metadata\"] = \"new_value\"\n",
    "\n",
    "    updated_records.append(record)\n",
    "\n",
    "dataset.records.log(records=updated_records)"
   ]
  }
 ],
 "metadata": {
  "kernelspec": {
   "display_name": "env",
   "language": "python",
   "name": "python3"
  },
  "language_info": {
   "codemirror_mode": {
    "name": "ipython",
    "version": 3
   },
   "file_extension": ".py",
   "mimetype": "text/x-python",
   "name": "python",
   "nbconvert_exporter": "python",
   "pygments_lexer": "ipython3",
   "version": "3.12.3"
  }
 },
 "nbformat": 4,
 "nbformat_minor": 5
}
